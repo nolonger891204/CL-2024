{
  "nbformat": 4,
  "nbformat_minor": 0,
  "metadata": {
    "colab": {
      "provenance": []
    },
    "kernelspec": {
      "name": "python3",
      "display_name": "Python 3"
    },
    "language_info": {
      "name": "python"
    }
  },
  "cells": [
    {
      "cell_type": "code",
      "source": [
        "!pip install owlready2"
      ],
      "metadata": {
        "id": "BdFvSkGKmqaV",
        "colab": {
          "base_uri": "https://localhost:8080/"
        },
        "outputId": "a4b61eaa-cc4f-4d0c-dc8c-c17f56a22961"
      },
      "execution_count": null,
      "outputs": [
        {
          "output_type": "stream",
          "name": "stdout",
          "text": [
            "Collecting owlready2\n",
            "  Downloading owlready2-0.46.tar.gz (27.4 MB)\n",
            "\u001b[2K     \u001b[90m━━━━━━━━━━━━━━━━━━━━━━━━━━━━━━━━━━━━━━━━\u001b[0m \u001b[32m27.4/27.4 MB\u001b[0m \u001b[31m46.2 MB/s\u001b[0m eta \u001b[36m0:00:00\u001b[0m\n",
            "\u001b[?25h  Installing build dependencies ... \u001b[?25l\u001b[?25hdone\n",
            "  Getting requirements to build wheel ... \u001b[?25l\u001b[?25hdone\n",
            "  Preparing metadata (pyproject.toml) ... \u001b[?25l\u001b[?25hdone\n",
            "Building wheels for collected packages: owlready2\n",
            "  Building wheel for owlready2 (pyproject.toml) ... \u001b[?25l\u001b[?25hdone\n",
            "  Created wheel for owlready2: filename=owlready2-0.46-cp310-cp310-linux_x86_64.whl size=24087768 sha256=3b469dfd0851575231642493a48cecbb53bde9c73533470274ddc726b252f6a0\n",
            "  Stored in directory: /root/.cache/pip/wheels/bf/6f/ef/35df148baa59fc6b243aca4f101e17aed14b67dc1166b73fe0\n",
            "Successfully built owlready2\n",
            "Installing collected packages: owlready2\n",
            "Successfully installed owlready2-0.46\n"
          ]
        }
      ]
    },
    {
      "cell_type": "code",
      "execution_count": null,
      "metadata": {
        "id": "Th-GU2oGml43"
      },
      "outputs": [],
      "source": [
        "from owlready2 import *\n",
        "import os\n",
        "import json\n",
        "import types\n",
        "\n",
        "os.chdir(\"/content/drive/MyDrive/Master/code/GeospatialDescription/data/\")"
      ]
    },
    {
      "cell_type": "markdown",
      "source": [
        "# Word"
      ],
      "metadata": {
        "id": "OlfbmuS5ldaF"
      }
    },
    {
      "cell_type": "code",
      "source": [
        "with open('./LocationalValueWord_ForOntology.json') as f:\n",
        "  data = json.load(f)"
      ],
      "metadata": {
        "id": "Kh5hrrX1mwCy"
      },
      "execution_count": null,
      "outputs": []
    },
    {
      "cell_type": "code",
      "source": [
        "# id為class\n",
        "def setKeys(dictionary, upper_key = \"LocalValue\"):\n",
        "  for key, value in dictionary.items():\n",
        "    if (\"|\" in key):\n",
        "      key = key.split(\"|\")[0]\n",
        "    if key == 'name' or key == 'ehownet':\n",
        "      onto[upper_key].comment = [value]\n",
        "      break\n",
        "    with onto:\n",
        "      test = types.new_class(key, (onto[upper_key],))\n",
        "\n",
        "    if isinstance(value, dict):\n",
        "      setKeys(value, key)\n",
        "setKeys(data)"
      ],
      "metadata": {
        "id": "FEneRkRl5HD9"
      },
      "execution_count": null,
      "outputs": []
    },
    {
      "cell_type": "code",
      "source": [
        "# Name為class\n",
        "onto = get_ontology(\"http://test.org/onto.owl\")\n",
        "\n",
        "def setKeys(dictionary, parent=\"LocalValue\"):\n",
        "    for key, value in dictionary.items():\n",
        "        class_name = value.get(\"name\", key)  # 如果找不到'name'鍵，則使用key本身作為類的名稱\n",
        "        # 定義一個新的類，使用'name'鍵的值或key本身\n",
        "        print(class_name, parent)\n",
        "        with onto:\n",
        "          cls = types.new_class(class_name, (onto[parent],))\n",
        "        # 如果找到'name'鍵，設置註釋屬性\n",
        "        if 'name' in value:\n",
        "          comment = value.get(\"ehownet\", None)\n",
        "          if comment:\n",
        "            cls.comment = [comment]\n",
        "          break\n",
        "        setKeys(value, class_name)\n",
        "\n",
        "# 使用你的資料呼叫函數\n",
        "setKeys(data)"
      ],
      "metadata": {
        "id": "puqm4qCs9o0W",
        "colab": {
          "base_uri": "https://localhost:8080/"
        },
        "outputId": "526e5512-3a00-4623-92ce-d51f223b26f2"
      },
      "execution_count": null,
      "outputs": [
        {
          "output_type": "stream",
          "name": "stdout",
          "text": [
            "Location/Position/DirectionValue|方位值.1 LocalValue\n",
            "OnSite|現場.1 Location/Position/DirectionValue|方位值.1\n",
            "在場 OnSite|現場.1\n",
            "WholePlace|到處.1 Location/Position/DirectionValue|方位值.1\n",
            "大江南北 WholePlace|到處.1\n",
            "centre|中央.1 Location/Position/DirectionValue|方位值.1\n",
            "中 centre|中央.1\n",
            "InBetween|介於.1 Location/Position/DirectionValue|方位值.1\n",
            "州際 InBetween|介於.1\n",
            "side|側.1 Location/Position/DirectionValue|方位值.1\n",
            "一旁 side|側.1\n",
            "InFront|前.1 Location/Position/DirectionValue|方位值.1\n",
            "前 InFront|前.1\n",
            "hind|後.1 Location/Position/DirectionValue|方位值.1\n",
            "其後 hind|後.1\n",
            "surrounding|周圍.1 Location/Position/DirectionValue|方位值.1\n",
            "一帶 surrounding|周圍.1\n",
            "external|外.1 Location/Position/DirectionValue|方位值.1\n",
            "外 external|外.1\n",
            "internal|內.1 Location/Position/DirectionValue|方位值.1\n",
            "裡頭 internal|內.1\n",
            "boundary|界限.1 Location/Position/DirectionValue|方位值.1\n",
            "分界 boundary|界限.1\n",
            "east|東.1 Location/Position/DirectionValue|方位值.1\n",
            "正東 east|東.1\n",
            "horizontal|橫.1 Location/Position/DirectionValue|方位值.1\n",
            "東西向 horizontal|橫.1\n",
            "vertical|縱.1 Location/Position/DirectionValue|方位值.1\n",
            "直交 vertical|縱.1\n",
            "{迎風}.1 Location/Position/DirectionValue|方位值.1\n",
            "迎風 {迎風}.1\n",
            "west|西.1 Location/Position/DirectionValue|方位值.1\n",
            "正西 west|西.1\n",
            "north|北.1 Location/Position/DirectionValue|方位值.1\n",
            "北 north|北.1\n",
            "south|南.1 Location/Position/DirectionValue|方位值.1\n",
            "正南 south|南.1\n",
            "right|右.1 Location/Position/DirectionValue|方位值.1\n",
            "右 right|右.1\n",
            "left|左.1 Location/Position/DirectionValue|方位值.1\n",
            "左 left|左.1\n",
            "upper|上.1 Location/Position/DirectionValue|方位值.1\n",
            "上頭 upper|上.1\n",
            "beneath|下.1 Location/Position/DirectionValue|方位值.1\n",
            "下 beneath|下.1\n",
            "DistanceValue|距離值.1 LocalValue\n",
            "OutOfTheWay|偏僻.1 DistanceValue|距離值.1\n",
            "幽 OutOfTheWay|偏僻.1\n",
            "far|遠.1 DistanceValue|距離值.1\n",
            "山高水遠 far|遠.1\n",
            "near|近.1 DistanceValue|距離值.1\n",
            "比肩 near|近.1\n",
            "SourceValue|來源值.1 LocalValue\n",
            "original|原.1 SourceValue|來源值.1\n",
            "天縱 original|原.1\n",
            "acquired|後天.1 SourceValue|來源值.1\n",
            "後天 acquired|後天.1\n",
            "{太陽能}.1 SourceValue|來源值.1\n",
            "太陽能 {太陽能}.1\n",
            "alien|外來.1 SourceValue|來源值.1\n",
            "native|本土.1 SourceValue|來源值.1\n",
            "土 native|本土.1\n",
            "foreign|外國.1 SourceValue|來源值.1\n",
            "外來 foreign|外國.1\n",
            "international|國際.1 SourceValue|來源值.1\n",
            "世界性 international|國際.1\n",
            "RelatingToCountry|與特定國家相關.1 SourceValue|來源值.1\n",
            "artificial|人為.1 SourceValue|來源值.1\n",
            "人工 artificial|人為.1\n",
            "natural|天然.1 SourceValue|來源值.1\n",
            "天然 natural|天然.1\n",
            "innate|先天.1 SourceValue|來源值.1\n",
            "天生 innate|先天.1\n"
          ]
        }
      ]
    },
    {
      "cell_type": "code",
      "source": [
        "onto.save(file = \"./locationValue_0604.owl\", format = \"rdfxml\")"
      ],
      "metadata": {
        "id": "6P_wO9LpDunP"
      },
      "execution_count": null,
      "outputs": []
    },
    {
      "cell_type": "markdown",
      "source": [
        "# Word Sense\n"
      ],
      "metadata": {
        "id": "JacBp3LAlfP9"
      }
    },
    {
      "cell_type": "code",
      "source": [
        "onto = get_ontology(\"http://test.org/onto.owl\")\n",
        "\n",
        "class WordSense(Thing):\n",
        "  namespace = onto\n",
        "\n",
        "with open('./WordSense_nodeId.json') as f:\n",
        "  node_id = json.load(f)\n",
        "\n",
        "with open('./WordSense_ForOntology.json') as f:\n",
        "  data = json.load(f)"
      ],
      "metadata": {
        "id": "tZNPwXW-lsek"
      },
      "execution_count": null,
      "outputs": []
    },
    {
      "cell_type": "code",
      "source": [
        "def setKeys(dictionary, upper_key = \"WordSense\"):\n",
        "  for key, value in dictionary.items():\n",
        "    with onto:\n",
        "      test = types.new_class(key, (onto[upper_key],))\n",
        "      onto[key].comment = [node_id[key]]\n",
        "    if isinstance(value, dict):\n",
        "      setKeys(value, key)\n",
        "setKeys(data)"
      ],
      "metadata": {
        "id": "l_r0qilsmOoo"
      },
      "execution_count": null,
      "outputs": []
    },
    {
      "cell_type": "code",
      "source": [
        "onto.save(file = \"./WordSense.owl\", format = \"rdfxml\")"
      ],
      "metadata": {
        "id": "IOGPG_ksmkb8"
      },
      "execution_count": null,
      "outputs": []
    }
  ]
}